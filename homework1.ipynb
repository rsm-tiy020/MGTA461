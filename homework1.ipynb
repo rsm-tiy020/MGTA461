{
 "cells": [
  {
   "cell_type": "code",
   "execution_count": 321,
   "id": "07ad6b17",
   "metadata": {},
   "outputs": [],
   "source": [
    "import json\n",
    "from collections import defaultdict\n",
    "from sklearn import linear_model\n",
    "import numpy\n",
    "import random\n",
    "import gzip\n",
    "import dateutil.parser\n",
    "import math\n",
    "from sklearn.linear_model import LinearRegression\n",
    "from sklearn.metrics import mean_squared_error"
   ]
  },
  {
   "cell_type": "code",
   "execution_count": 322,
   "id": "0e6a1e4d-c80f-4030-8770-1d719320bb93",
   "metadata": {},
   "outputs": [],
   "source": [
    "answers = {}"
   ]
  },
  {
   "cell_type": "code",
   "execution_count": 323,
   "id": "f6885040-d9f2-461a-a2c8-ba31f83eafaa",
   "metadata": {},
   "outputs": [],
   "source": [
    "def assertFloat(x):\n",
    "    assert type(float(x)) == float\n",
    "\n",
    "def assertFloatList(items, N):\n",
    "    assert len(items) == N\n",
    "    assert [type(float(x)) for x in items] == [float]*N"
   ]
  },
  {
   "cell_type": "code",
   "execution_count": 324,
   "id": "ab71afc7-f078-4439-ba7d-5e348f44266c",
   "metadata": {},
   "outputs": [],
   "source": [
    "### Question 1"
   ]
  },
  {
   "cell_type": "code",
   "execution_count": 325,
   "id": "7f8461d9-fb56-4218-b3f7-7c153005baa3",
   "metadata": {},
   "outputs": [],
   "source": [
    "f = gzip.open(\"fantasy_10000.json.gz\")\n",
    "dataset = [json.loads(l) for l in f]\n",
    "for l in f:\n",
    "    dataset.append(json.loads(l))"
   ]
  },
  {
   "cell_type": "code",
   "execution_count": 326,
   "id": "9dc58396-c9f4-4a94-b62e-74e03064ca24",
   "metadata": {},
   "outputs": [],
   "source": [
    "def feature(datum):\n",
    "    # ...\n",
    "    review_text = datum.get('text', '')\n",
    "    feat = [1, len(datum['review_text']) / max([len(d['review_text']) for d in dataset])]\n",
    "    return feat\n"
   ]
  },
  {
   "cell_type": "code",
   "execution_count": 327,
   "id": "f1ebbbb2-d5ae-405e-a02d-7307265387b8",
   "metadata": {},
   "outputs": [],
   "source": [
    "X = [feature(d) for d in dataset]\n",
    "Y = [d['rating'] for d in dataset]\n"
   ]
  },
  {
   "cell_type": "code",
   "execution_count": 328,
   "id": "ddce5f82-7fbd-416d-8700-6460b54d1815",
   "metadata": {},
   "outputs": [],
   "source": [
    "X = numpy.array(X)\n",
    "Y = numpy.array(Y)"
   ]
  },
  {
   "cell_type": "code",
   "execution_count": 329,
   "id": "3b06b7c5",
   "metadata": {},
   "outputs": [],
   "source": [
    "from sklearn.metrics import mean_squared_error\n",
    "\n",
    "model = LinearRegression().fit(X, Y)\n",
    "theta = [model.intercept_, model.coef_[1]]\n",
    "predicted_ratings = model.predict(X)\n",
    "MSE = mean_squared_error(Y, predicted_ratings)"
   ]
  },
  {
   "cell_type": "code",
   "execution_count": 330,
   "id": "aff0ac61-0957-4d3d-ba0b-2db2b222026d",
   "metadata": {},
   "outputs": [],
   "source": [
    "answers['Q1'] = [theta[0], theta[1], MSE]"
   ]
  },
  {
   "cell_type": "code",
   "execution_count": 331,
   "id": "1d6a1c2a-c1cf-4b17-bd42-687499297c8c",
   "metadata": {},
   "outputs": [
    {
     "name": "stdout",
     "output_type": "stream",
     "text": [
      "[3.6856813550169516, 0.9833539181066179, 1.5522086622355378]\n"
     ]
    }
   ],
   "source": [
    "assertFloatList(answers['Q1'], 3)\n",
    "\n",
    "print(answers['Q1'])"
   ]
  },
  {
   "cell_type": "code",
   "execution_count": 332,
   "id": "a8e3b548-53bc-47ad-bc45-d63fc4af95ce",
   "metadata": {},
   "outputs": [],
   "source": [
    "### Question 2"
   ]
  },
  {
   "cell_type": "code",
   "execution_count": 333,
   "id": "6331a843-78ac-4764-bf37-5dd234f09229",
   "metadata": {},
   "outputs": [],
   "source": [
    "for d in dataset:\n",
    "    t = dateutil.parser.parse(d['date_added'])\n",
    "    d['parsed_date'] = t"
   ]
  },
  {
   "cell_type": "code",
   "execution_count": 334,
   "id": "abce94cf-a7ca-4eef-b5fa-920349ee1003",
   "metadata": {},
   "outputs": [],
   "source": [
    "def feature(datum):\n",
    "    # ...\n",
    "    t = dateutil.parser.parse(datum['date_added'])\n",
    "    weekday_features = [1 if t.weekday() == i else 0 for i in range(1,7)]\n",
    "    month_features = [1 if t.month == i else 0 for i in range(2, 13)]\n",
    "    \n",
    "    feat = [1, len(datum['review_text']) / max([len(d['review_text']) for d in dataset])] + weekday_features + month_features\n",
    "    \n",
    "    return feat"
   ]
  },
  {
   "cell_type": "code",
   "execution_count": 335,
   "id": "18be1bc1-7cc0-4249-9b0c-513c37b86665",
   "metadata": {},
   "outputs": [],
   "source": [
    "X = [feature(d) for d in dataset]\n",
    "Y = [d['rating'] for d in dataset]"
   ]
  },
  {
   "cell_type": "code",
   "execution_count": 336,
   "id": "21f3258e-b3a1-40bd-90bb-8a5b23b537c7",
   "metadata": {},
   "outputs": [],
   "source": [
    "\n",
    "answers['Q2'] = [X[0], X[1]]"
   ]
  },
  {
   "cell_type": "code",
   "execution_count": 337,
   "id": "c28bda14-710b-47f2-9747-6d5f09d958ae",
   "metadata": {},
   "outputs": [
    {
     "name": "stdout",
     "output_type": "stream",
     "text": [
      "[[1, 0.14581294561722355, 0, 0, 0, 0, 0, 1, 0, 0, 0, 0, 0, 1, 0, 0, 0, 0, 0], [1, 0.10631902698168601, 0, 1, 0, 0, 0, 0, 0, 0, 0, 0, 0, 0, 0, 1, 0, 0, 0]]\n"
     ]
    }
   ],
   "source": [
    "assertFloatList(answers['Q2'][0], 19)\n",
    "assertFloatList(answers['Q2'][1], 19)\n",
    "\n",
    "print(answers['Q2'])"
   ]
  },
  {
   "cell_type": "code",
   "execution_count": 338,
   "id": "35d18540-6413-4459-8082-0f8cc1d3e276",
   "metadata": {},
   "outputs": [],
   "source": [
    "### Question 3"
   ]
  },
  {
   "cell_type": "code",
   "execution_count": 339,
   "id": "939c02d3-eb26-4e65-96a2-d55fc41d2209",
   "metadata": {},
   "outputs": [],
   "source": [
    "def feature3(datum):\n",
    "    # ...\n",
    "    t = dateutil.parser.parse(datum['date_added'])\n",
    "    feat = [1, len(datum['review_text']) / max([len(d['review_text']) for d in dataset]), t.weekday(), t.month]\n",
    "    return feat"
   ]
  },
  {
   "cell_type": "code",
   "execution_count": 340,
   "id": "3efaacd2-6ac8-4a3c-8d32-60ad8f389917",
   "metadata": {},
   "outputs": [],
   "source": [
    "X3 = [feature3(d) for d in dataset]\n",
    "Y3 = [d['rating'] for d in dataset]"
   ]
  },
  {
   "cell_type": "code",
   "execution_count": 341,
   "id": "595220ef-b8b2-4377-9e2c-1743495b9c24",
   "metadata": {},
   "outputs": [],
   "source": [
    "model2 = LinearRegression().fit(X, Y)\n",
    "predicted_ratings2 = model2.predict(X)\n",
    "mse2 = mean_squared_error(Y, predicted_ratings2)\n",
    "\n",
    "model3 = LinearRegression().fit(X3, Y3)\n",
    "predicted_ratings3 = model3.predict(X3)\n",
    "mse3 = mean_squared_error(Y3, predicted_ratings3)"
   ]
  },
  {
   "cell_type": "code",
   "execution_count": 342,
   "id": "5d2e124d-10d4-4147-a2d3-172c50f47029",
   "metadata": {},
   "outputs": [],
   "source": [
    "answers['Q3'] = [mse2, mse3]"
   ]
  },
  {
   "cell_type": "code",
   "execution_count": 343,
   "id": "289b8ec1-53bd-4796-9613-b3557fffd84d",
   "metadata": {},
   "outputs": [
    {
     "name": "stdout",
     "output_type": "stream",
     "text": [
      "[1.5466315498487562, 1.5516353711453328]\n"
     ]
    }
   ],
   "source": [
    "assertFloatList(answers['Q3'], 2)\n",
    "\n",
    "print(answers['Q3'])"
   ]
  },
  {
   "cell_type": "code",
   "execution_count": 344,
   "id": "6d89e772-b1ad-46fc-aeb8-45a6df15fa5d",
   "metadata": {},
   "outputs": [],
   "source": [
    "### Question 4"
   ]
  },
  {
   "cell_type": "code",
   "execution_count": 345,
   "id": "54ab0a2f-9efa-4035-96ba-dbce8c86f039",
   "metadata": {},
   "outputs": [],
   "source": [
    "random.seed(0)\n",
    "random.shuffle(dataset)"
   ]
  },
  {
   "cell_type": "code",
   "execution_count": 346,
   "id": "d1029574-b4c4-4675-83ad-c20674a2428b",
   "metadata": {},
   "outputs": [],
   "source": [
    "X2 = [feature(d) for d in dataset]\n",
    "X3 = [feature3(d) for d in dataset]\n",
    "Y = [d['rating'] for d in dataset]"
   ]
  },
  {
   "cell_type": "code",
   "execution_count": 347,
   "id": "4d289580-a10d-48a5-85ae-2d3e77b007d1",
   "metadata": {},
   "outputs": [],
   "source": [
    "train2, test2 = X2[:len(X2)//2], X2[len(X2)//2:]\n",
    "train3, test3 = X3[:len(X3)//2], X3[len(X3)//2:]\n",
    "trainY, testY = Y[:len(Y)//2], Y[len(Y)//2:]"
   ]
  },
  {
   "cell_type": "code",
   "execution_count": 348,
   "id": "2c0c46b5-774b-44b9-856b-dd1d4ab62e2d",
   "metadata": {},
   "outputs": [],
   "source": [
    "model2 = LinearRegression().fit(train2, trainY)\n",
    "predicted_test_ratings2 = model2.predict(test2)\n",
    "test_mse2 = mean_squared_error(testY, predicted_test_ratings2)\n",
    "\n",
    "model3 = LinearRegression().fit(train3, trainY)\n",
    "predicted_test_ratings3 = model3.predict(test3)\n",
    "test_mse3 = mean_squared_error(testY, predicted_test_ratings3)"
   ]
  },
  {
   "cell_type": "code",
   "execution_count": 349,
   "id": "6cfc160b-eab4-406d-8ff3-e9e1670bbbf0",
   "metadata": {},
   "outputs": [],
   "source": [
    "answers['Q4'] = [test_mse2, test_mse3]"
   ]
  },
  {
   "cell_type": "code",
   "execution_count": 350,
   "id": "453c7ca7-8649-4722-9d6a-1980b536e7fa",
   "metadata": {},
   "outputs": [
    {
     "name": "stdout",
     "output_type": "stream",
     "text": [
      "[1.6264453676167938, 1.6282919476176057]\n"
     ]
    }
   ],
   "source": [
    "assertFloatList(answers['Q4'], 2)\n",
    "\n",
    "print(answers['Q4'])"
   ]
  },
  {
   "cell_type": "code",
   "execution_count": 351,
   "id": "3a38cc78-c502-4ad1-b2db-d8358c0caa3e",
   "metadata": {},
   "outputs": [],
   "source": [
    "### Question 5"
   ]
  },
  {
   "cell_type": "code",
   "execution_count": 352,
   "id": "7dde2008-33d7-4fa9-8303-ea639bf54203",
   "metadata": {},
   "outputs": [],
   "source": [
    "f = open(\"beer_50000.json\")\n",
    "dataset = []\n",
    "for l in f:\n",
    "    dataset.append(eval(l))"
   ]
  },
  {
   "cell_type": "code",
   "execution_count": 353,
   "id": "7e76f545-a0dd-4c97-9693-82d859880a99",
   "metadata": {},
   "outputs": [],
   "source": [
    "f.close()"
   ]
  },
  {
   "cell_type": "code",
   "execution_count": 354,
   "id": "cabb75ec-826a-497e-b158-f5c340aea4d2",
   "metadata": {},
   "outputs": [],
   "source": [
    "X = [[len(d['review/text'])] for d in dataset if 'review/text' in d]\n",
    "y = [d['review/overall'] >= 4 for d in dataset]"
   ]
  },
  {
   "cell_type": "code",
   "execution_count": 355,
   "id": "04323540-48d2-4129-84c6-f3fe1d012179",
   "metadata": {},
   "outputs": [],
   "source": [
    "from sklearn.linear_model import LogisticRegression\n",
    "from sklearn.metrics import confusion_matrix\n",
    "clf = LogisticRegression(class_weight='balanced').fit(X, y)\n",
    "y_pred = clf.predict(X)\n",
    "tn, fp, fn, tp = confusion_matrix(y, y_pred).ravel()"
   ]
  },
  {
   "cell_type": "code",
   "execution_count": 356,
   "id": "67866d15-cd7a-4643-87a6-d20fa7135428",
   "metadata": {},
   "outputs": [],
   "source": [
    "TP = tp\n",
    "TN = tn\n",
    "FP = fp\n",
    "FN = fn"
   ]
  },
  {
   "cell_type": "code",
   "execution_count": 357,
   "id": "e3b8297c-444e-4832-8f75-fae48d074162",
   "metadata": {},
   "outputs": [],
   "source": [
    "BER = 0.5 * (fp / (tn + fp) + fn / (tp + fn))"
   ]
  },
  {
   "cell_type": "code",
   "execution_count": 358,
   "id": "e4cf3f97-14ee-4c2b-a1b0-e5df323bfc28",
   "metadata": {},
   "outputs": [],
   "source": [
    "answers['Q5'] = [TP, TN, FP, FN, BER]"
   ]
  },
  {
   "cell_type": "code",
   "execution_count": 359,
   "id": "bb92ee88-4f3c-44fc-a9c0-57e377f9c068",
   "metadata": {},
   "outputs": [
    {
     "name": "stdout",
     "output_type": "stream",
     "text": [
      "[14201, 10503, 5885, 19411, 0.46830315259572763]\n"
     ]
    }
   ],
   "source": [
    "assertFloatList(answers['Q5'], 5)\n",
    "\n",
    "print(answers['Q5'])"
   ]
  },
  {
   "cell_type": "code",
   "execution_count": 360,
   "id": "a3c14955-d174-473b-bf2b-a2b98776685e",
   "metadata": {},
   "outputs": [],
   "source": [
    "### Question 6"
   ]
  },
  {
   "cell_type": "code",
   "execution_count": 361,
   "id": "2a71178c-589e-433c-8bdb-70c5e1510fce",
   "metadata": {},
   "outputs": [],
   "source": [
    "probs = clf.predict_proba(X)[:, 1]\n",
    "\n",
    "sorted_indices = numpy.argsort(probs)[::-1]"
   ]
  },
  {
   "cell_type": "code",
   "execution_count": 362,
   "id": "93cdb65b-4cd4-47f1-a4f6-50f0b68a6fda",
   "metadata": {},
   "outputs": [],
   "source": [
    "precs = []"
   ]
  },
  {
   "cell_type": "code",
   "execution_count": 363,
   "id": "5a936845-ac24-4e7d-b24a-7aa54ab20fcb",
   "metadata": {},
   "outputs": [],
   "source": [
    "for k in [1,100,1000,10000]:\n",
    "    # ...\n",
    "    top_k_indices = sorted_indices[:k]\n",
    "    top_k_true_labels = numpy.array(y)[top_k_indices]\n",
    "    precision_at_k = sum(top_k_true_labels) / k\n",
    "    precs.append(precision_at_k)"
   ]
  },
  {
   "cell_type": "code",
   "execution_count": 364,
   "id": "2926f098-8166-4748-9ad5-97ece5d67869",
   "metadata": {},
   "outputs": [],
   "source": [
    "answers['Q6'] = precs"
   ]
  },
  {
   "cell_type": "code",
   "execution_count": 365,
   "id": "934b27e5-eddc-4cd5-9dd5-5d91a17c9f53",
   "metadata": {},
   "outputs": [
    {
     "name": "stdout",
     "output_type": "stream",
     "text": [
      "[1.0, 0.75, 0.71, 0.7146]\n"
     ]
    }
   ],
   "source": [
    "assertFloatList(answers['Q6'], 4)\n",
    "\n",
    "print(answers['Q6'])"
   ]
  },
  {
   "cell_type": "code",
   "execution_count": 366,
   "id": "e8291f55-cfa1-4979-bcaa-42a238e9a844",
   "metadata": {},
   "outputs": [],
   "source": [
    "### Question 7"
   ]
  },
  {
   "cell_type": "code",
   "execution_count": 367,
   "id": "a82b5d07",
   "metadata": {},
   "outputs": [
    {
     "name": "stdout",
     "output_type": "stream",
     "text": [
      "['I used the beer styles and review length as features to simplify the predictor.', 0.42291530942357924]\n"
     ]
    }
   ],
   "source": [
    "# Numerically encode beer styles\n",
    "styles = list(set([d['beer/style'] for d in dataset]))\n",
    "style_dict = {style: i for i, style in enumerate(styles)}\n",
    "\n",
    "def style_encoding(beer_style):\n",
    "    return [style_dict[beer_style]]\n",
    "\n",
    "# Simplified feature extraction\n",
    "def simplified_feature(datum):\n",
    "    feat = [1, len(datum['review/text'])]\n",
    "    feat += style_encoding(datum['beer/style'])\n",
    "    return feat\n",
    "\n",
    "X_simplified = [simplified_feature(d) for d in dataset]\n",
    "y = [d['review/overall'] >= 4 for d in dataset]\n",
    "\n",
    "# Split the data into training and test sets (50%/50%)\n",
    "trainX_simplified, testX_simplified = X_simplified[:len(X_simplified)//2], X_simplified[len(X_simplified)//2:]\n",
    "trainY, testY = y[:len(y)//2], y[len(y)//2:]\n",
    "\n",
    "# Train a logistic regressor using the simplified features\n",
    "clf_simplified = LogisticRegression(class_weight='balanced').fit(trainX_simplified, trainY)\n",
    "\n",
    "# Predict the labels for the test set\n",
    "y_pred_simplified = clf_simplified.predict(testX_simplified)\n",
    "\n",
    "# Compute the confusion matrix\n",
    "tn, fp, fn, tp = confusion_matrix(testY, y_pred_simplified).ravel()\n",
    "\n",
    "# Calculate the Balanced Error Rate (BER)\n",
    "BER_simplified = 0.5 * (fp / (tn + fp) + fn / (tp + fn))\n",
    "\n",
    "description = \"I used the beer styles and review length as features to simplify the predictor.\"\n",
    "\n",
    "answers['Q7'] = [description, BER_simplified]\n",
    "\n",
    "print(answers['Q7'])"
   ]
  },
  {
   "cell_type": "code",
   "execution_count": 368,
   "id": "6aa84ca4",
   "metadata": {},
   "outputs": [
    {
     "name": "stdout",
     "output_type": "stream",
     "text": [
      "{'Q1': [3.6856813550169516, 0.9833539181066179, 1.5522086622355378], 'Q2': [[1, 0.14581294561722355, 0, 0, 0, 0, 0, 1, 0, 0, 0, 0, 0, 1, 0, 0, 0, 0, 0], [1, 0.10631902698168601, 0, 1, 0, 0, 0, 0, 0, 0, 0, 0, 0, 0, 0, 1, 0, 0, 0]], 'Q3': [1.5466315498487562, 1.5516353711453328], 'Q4': [1.6264453676167938, 1.6282919476176057], 'Q5': [14201, 10503, 5885, 19411, 0.46830315259572763], 'Q6': [1.0, 0.75, 0.71, 0.7146], 'Q7': ['I used the beer styles and review length as features to simplify the predictor.', 0.42291530942357924]}\n"
     ]
    }
   ],
   "source": [
    "print(answers)"
   ]
  },
  {
   "cell_type": "code",
   "execution_count": 369,
   "id": "50b85f57",
   "metadata": {},
   "outputs": [],
   "source": [
    "f = open(\"answers_hw1.txt\", 'w')\n",
    "f.write(str(answers) + '\\n')\n",
    "f.close()\n"
   ]
  }
 ],
 "metadata": {
  "kernelspec": {
   "display_name": "Python 3 (ipykernel)",
   "language": "python",
   "name": "python3"
  },
  "language_info": {
   "codemirror_mode": {
    "name": "ipython",
    "version": 3
   },
   "file_extension": ".py",
   "mimetype": "text/x-python",
   "name": "python",
   "nbconvert_exporter": "python",
   "pygments_lexer": "ipython3",
   "version": "3.11.5"
  }
 },
 "nbformat": 4,
 "nbformat_minor": 5
}
